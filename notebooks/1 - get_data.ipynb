{
 "cells": [
  {
   "cell_type": "markdown",
   "metadata": {},
   "source": [
    "# Here goes the title\n",
    "---\n",
    "\n",
    "Some description.\n",
    "\n",
    "*Code made by [You](https://github.com/@you) - YYYY.*"
   ]
  },
  {
   "cell_type": "markdown",
   "metadata": {},
   "source": [
    "### Import required libraries"
   ]
  },
  {
   "cell_type": "code",
   "execution_count": 1,
   "metadata": {},
   "outputs": [
    {
     "name": "stdout",
     "output_type": "stream",
     "text": [
      "Populating the interactive namespace from numpy and matplotlib\n"
     ]
    }
   ],
   "source": [
    "# IMPORT CONFIGs\n",
    "import os\n",
    "import sys\n",
    "sys.path.insert(0, '../')\n",
    "sys.path.insert(0, '../scripts')\n",
    "from config import RAW_PATH, TREAT_PATH, OUTPUT_PATH\n",
    "\n",
    "\n",
    "# DATA ANALYSIS & VIZ TOOLS\n",
    "from copy import deepcopy\n",
    "\n",
    "import pandas as pd\n",
    "pd.options.display.max_columns = 999\n",
    "\n",
    "#import plotly\n",
    "#import plotly.graph_objs as go\n",
    "#import plotly.offline as offline\n",
    "#offline.init_notebook_mode(connected=True)\n",
    "\n",
    "%pylab inline\n",
    "pylab.rcParams['figure.figsize'] = (12, 12)\n",
    "\n",
    "\n",
    "# For changes in .py\n",
    "%reload_ext autoreload\n",
    "%autoreload 2\n",
    "\n",
    "import warnings\n",
    "warnings.filterwarnings('ignore')\n",
    "\n",
    "\n",
    "\n",
    "\n",
    "import numpy as np\n",
    "\n",
    "\n",
    "import missingno as msno\n",
    "\n",
    "stats = ['skew', 'mad', 'kurt']\n",
    "\n",
    "\n",
    "import qgrid\n",
    "\n",
    "def qg(df):\n",
    "    return(qgrid.show_grid(df,show_toolbar=True, grid_options={'forceFitColumns': False}))\n",
    "\n",
    "\n",
    "from sklearn.model_selection import train_test_split\n",
    "from sklearn.neighbors import KNeighborsClassifier\n",
    "from sklearn import metrics\n",
    "from sklearn.metrics import classification_report, confusion_matrix\n",
    "from sklearn.model_selection import train_test_split\n",
    "\n",
    "import itertools\n",
    "pd.set_option('display.max_rows', 500)\n",
    "pd.set_option('display.max_columns', 500)\n",
    "pd.set_option('display.width', 1000)\n",
    "pd.set_option('display.max_colwidth', -1)\n",
    "\n",
    "import requests\n",
    "import json\n",
    "import xmltodict\n",
    "import re\n",
    "import urllib.request as urllib2\n",
    "import io"
   ]
  },
  {
   "cell_type": "code",
   "execution_count": null,
   "metadata": {},
   "outputs": [],
   "source": []
  },
  {
   "cell_type": "markdown",
   "metadata": {},
   "source": [
    "### Import data\n",
    "\n",
    "- http://www.seade.gov.br/lista-produtos/\n",
    "\n",
    "- Get the data from http://doc.seade.gov.br/index.php/API-SEADE"
   ]
  },
  {
   "cell_type": "markdown",
   "metadata": {},
   "source": [
    "### Fonte"
   ]
  },
  {
   "cell_type": "code",
   "execution_count": 3,
   "metadata": {},
   "outputs": [],
   "source": [
    "url = \"http://api-imp.seade.gov.br/v1/fonte\"\n",
    "r = requests.get(url).json()\n",
    "df_font = pd.DataFrame.from_records(r['fontes'])"
   ]
  },
  {
   "cell_type": "code",
   "execution_count": 4,
   "metadata": {},
   "outputs": [
    {
     "data": {
      "text/html": [
       "<div>\n",
       "<style scoped>\n",
       "    .dataframe tbody tr th:only-of-type {\n",
       "        vertical-align: middle;\n",
       "    }\n",
       "\n",
       "    .dataframe tbody tr th {\n",
       "        vertical-align: top;\n",
       "    }\n",
       "\n",
       "    .dataframe thead th {\n",
       "        text-align: right;\n",
       "    }\n",
       "</style>\n",
       "<table border=\"1\" class=\"dataframe\">\n",
       "  <thead>\n",
       "    <tr style=\"text-align: right;\">\n",
       "      <th></th>\n",
       "      <th>codigo</th>\n",
       "      <th>nome</th>\n",
       "    </tr>\n",
       "  </thead>\n",
       "  <tbody>\n",
       "    <tr>\n",
       "      <th>0</th>\n",
       "      <td>1</td>\n",
       "      <td>Banco Central do Brasil – Bacen.</td>\n",
       "    </tr>\n",
       "    <tr>\n",
       "      <th>1</th>\n",
       "      <td>999</td>\n",
       "      <td>Fundação Seade.</td>\n",
       "    </tr>\n",
       "    <tr>\n",
       "      <th>2</th>\n",
       "      <td>3</td>\n",
       "      <td>Instituto Brasileiro de Geografia e Estatística – IBGE.</td>\n",
       "    </tr>\n",
       "    <tr>\n",
       "      <th>3</th>\n",
       "      <td>4</td>\n",
       "      <td>Instituto Geográfico e Cartográfico – IGC.</td>\n",
       "    </tr>\n",
       "    <tr>\n",
       "      <th>4</th>\n",
       "      <td>5</td>\n",
       "      <td>Telecomunicações Brasileiras S.A. – Telebras.</td>\n",
       "    </tr>\n",
       "  </tbody>\n",
       "</table>\n",
       "</div>"
      ],
      "text/plain": [
       "  codigo                                                     nome\n",
       "0  1      Banco Central do Brasil – Bacen.                       \n",
       "1  999    Fundação Seade.                                        \n",
       "2  3      Instituto Brasileiro de Geografia e Estatística – IBGE.\n",
       "3  4      Instituto Geográfico e Cartográfico – IGC.             \n",
       "4  5      Telecomunicações Brasileiras S.A. – Telebras.          "
      ]
     },
     "execution_count": 4,
     "metadata": {},
     "output_type": "execute_result"
    }
   ],
   "source": [
    "df_font.head()"
   ]
  },
  {
   "cell_type": "code",
   "execution_count": null,
   "metadata": {},
   "outputs": [],
   "source": []
  },
  {
   "cell_type": "markdown",
   "metadata": {},
   "source": [
    "### Variavel\n",
    "\n",
    "Use o formato abaixo para buscar uma variável por requisição.\n",
    "\n",
    "- Path: /variavel\n",
    "- Parâmetros: código\n",
    "\n",
    "Para buscar todas as variáveis, é necessário informar os parâmetros de paginação, conforme a sintaxe abaixo.\n",
    "- Path: /variavel?offset={inicial}&limit={limite}"
   ]
  },
  {
   "cell_type": "code",
   "execution_count": 5,
   "metadata": {},
   "outputs": [],
   "source": [
    "url =  \"http://api-imp.seade.gov.br/v1/variavel?offset=0&limit=100000\"\n",
    "r = requests.get(url).json()\n",
    "df_var = pd.DataFrame.from_records(r['variavel'])"
   ]
  },
  {
   "cell_type": "code",
   "execution_count": 6,
   "metadata": {},
   "outputs": [],
   "source": [
    "var_list = list(df_var.keys())"
   ]
  },
  {
   "cell_type": "code",
   "execution_count": null,
   "metadata": {},
   "outputs": [],
   "source": []
  },
  {
   "cell_type": "markdown",
   "metadata": {},
   "source": [
    "### Localidade"
   ]
  },
  {
   "cell_type": "code",
   "execution_count": 7,
   "metadata": {},
   "outputs": [],
   "source": [
    "url = \"http://api-imp.seade.gov.br/v1/localidade\"\n",
    "r = requests.get(url).json()\n",
    "df_loc = pd.DataFrame.from_records(r['localidades'])"
   ]
  },
  {
   "cell_type": "code",
   "execution_count": 8,
   "metadata": {},
   "outputs": [
    {
     "data": {
      "text/html": [
       "<div>\n",
       "<style scoped>\n",
       "    .dataframe tbody tr th:only-of-type {\n",
       "        vertical-align: middle;\n",
       "    }\n",
       "\n",
       "    .dataframe tbody tr th {\n",
       "        vertical-align: top;\n",
       "    }\n",
       "\n",
       "    .dataframe thead th {\n",
       "        text-align: right;\n",
       "    }\n",
       "</style>\n",
       "<table border=\"1\" class=\"dataframe\">\n",
       "  <thead>\n",
       "    <tr style=\"text-align: right;\">\n",
       "      <th></th>\n",
       "      <th>codigo</th>\n",
       "      <th>codigo_pai</th>\n",
       "      <th>nivel</th>\n",
       "      <th>nome</th>\n",
       "      <th>nome_pai</th>\n",
       "    </tr>\n",
       "  </thead>\n",
       "  <tbody>\n",
       "    <tr>\n",
       "      <th>0</th>\n",
       "      <td>903</td>\n",
       "      <td>1000</td>\n",
       "      <td>Aglomeração Urbana</td>\n",
       "      <td>Aglomeração Urbana de Franca</td>\n",
       "      <td>Total do Estado de São Paulo</td>\n",
       "    </tr>\n",
       "    <tr>\n",
       "      <th>1</th>\n",
       "      <td>901</td>\n",
       "      <td>1000</td>\n",
       "      <td>Aglomeração Urbana</td>\n",
       "      <td>Aglomeração Urbana de Jundiaí</td>\n",
       "      <td>Total do Estado de São Paulo</td>\n",
       "    </tr>\n",
       "    <tr>\n",
       "      <th>2</th>\n",
       "      <td>902</td>\n",
       "      <td>1000</td>\n",
       "      <td>Aglomeração Urbana</td>\n",
       "      <td>Aglomeração Urbana de Piracicaba</td>\n",
       "      <td>Total do Estado de São Paulo</td>\n",
       "    </tr>\n",
       "    <tr>\n",
       "      <th>3</th>\n",
       "      <td>801</td>\n",
       "      <td>503</td>\n",
       "      <td>Distritos</td>\n",
       "      <td>Água Rasa</td>\n",
       "      <td>São Paulo</td>\n",
       "    </tr>\n",
       "    <tr>\n",
       "      <th>4</th>\n",
       "      <td>802</td>\n",
       "      <td>503</td>\n",
       "      <td>Distritos</td>\n",
       "      <td>Alto de Pinheiros</td>\n",
       "      <td>São Paulo</td>\n",
       "    </tr>\n",
       "  </tbody>\n",
       "</table>\n",
       "</div>"
      ],
      "text/plain": [
       "  codigo codigo_pai               nivel                              nome                      nome_pai\n",
       "0  903    1000       Aglomeração Urbana  Aglomeração Urbana de Franca      Total do Estado de São Paulo\n",
       "1  901    1000       Aglomeração Urbana  Aglomeração Urbana de Jundiaí     Total do Estado de São Paulo\n",
       "2  902    1000       Aglomeração Urbana  Aglomeração Urbana de Piracicaba  Total do Estado de São Paulo\n",
       "3  801    503        Distritos           Água Rasa                         São Paulo                   \n",
       "4  802    503        Distritos           Alto de Pinheiros                 São Paulo                   "
      ]
     },
     "execution_count": 8,
     "metadata": {},
     "output_type": "execute_result"
    }
   ],
   "source": [
    "df_loc.head()"
   ]
  },
  {
   "cell_type": "code",
   "execution_count": null,
   "metadata": {},
   "outputs": [],
   "source": []
  },
  {
   "cell_type": "markdown",
   "metadata": {},
   "source": [
    "### Notas"
   ]
  },
  {
   "cell_type": "code",
   "execution_count": 9,
   "metadata": {},
   "outputs": [],
   "source": [
    "url = \"http://api-imp.seade.gov.br/v1/nota\"\n",
    "r = requests.get(url).json()\n",
    "df_notas = pd.DataFrame.from_records(r['notas'])"
   ]
  },
  {
   "cell_type": "code",
   "execution_count": 10,
   "metadata": {},
   "outputs": [
    {
     "data": {
      "text/html": [
       "<div>\n",
       "<style scoped>\n",
       "    .dataframe tbody tr th:only-of-type {\n",
       "        vertical-align: middle;\n",
       "    }\n",
       "\n",
       "    .dataframe tbody tr th {\n",
       "        vertical-align: top;\n",
       "    }\n",
       "\n",
       "    .dataframe thead th {\n",
       "        text-align: right;\n",
       "    }\n",
       "</style>\n",
       "<table border=\"1\" class=\"dataframe\">\n",
       "  <thead>\n",
       "    <tr style=\"text-align: right;\">\n",
       "      <th></th>\n",
       "      <th>codigo</th>\n",
       "      <th>descricao</th>\n",
       "    </tr>\n",
       "  </thead>\n",
       "  <tbody>\n",
       "    <tr>\n",
       "      <th>0</th>\n",
       "      <td>1</td>\n",
       "      <td>Os terminais incluem os terminais de uso público e não incluem os telefones celulares. Em 1980, as totalizações para o Estado, Região Administrativa de Bauru e Região de Governo de Jaú incluem os dados referentes aos municípios de Barra Bonita e Igaraçu do Tietê. Em 1985, as totalizações para o Estado e Região Metropolitana incluem os dados referentes aos municípios de Vargem Grande Paulista e Cotia. Apesar da inexistência de terminais telefônicos, em 1993, nos municípios novos de Torre de Pedra, Barra do Chapéu, Bom Sucesso de Itararé, Canitar, Nova Campina, Iaras, Itaoca e Itapirapuã Paulista, cabe ressaltar que tal fato não significa que estas localidades não tenham serviço telefônico. Na verdade, estes municípios possuem à sua disposição, pelo menos 1 telefone público ligado a um terminal contabilizado no município do qual se originou o desmembramento. Em 1993, o município de Águas de Santa Bárbara inclui os terminais telefônicos do município de Iaras; Porangaba inclui os terminais de Torre de Pedra; Apiai inclui os terminais de Barra do Chapéu e Itaoca; Itapeva inclui os terminais de Nova Campina; Itararé inclui os terminais de Bom Sucesso de Itararé; Ribeira inclui os terminais de Itapirapuã Paulista; Chavantes inclui os terminais de Canitar. Em 1994, o município de Águas de Santa Bárbara inclui os terminais telefônicos do município de Iaras; Porangaba inclui os terminais de Torre de Pedra; Itapeva inclui os terminais de Nova Campina; Itararé inclui os terminais de Bom Sucesso de Itararé; Artur Nogueira inclui os terminais de Engenheiro Coelho. Em 1995, Itararé inclui os terminais de Bom Sucesso de Itararé; Paranapuã inclui os terminais de Mesópolis; Assis inclui os terminais de Tarumã; Santa Cruz do Rio Pardo inclui os terminais de Espírito Santo do Turvo; Cajobi inclui os terminais de Embaúba. Em 1996, Santa Cruz do Rio Pardo inclui os terminais telefônicos do município de Espírito Santo do Turvo. Em 1999 o cálculo do coeficiente para as Regiões de Governo, Regiões Administrativas e Estado foi efetuado sem os dados de população e de terminais telefônicos referentes aos municípios que são operados pela Companhia de Telefones do Brasil Central - CTBC ou Centrais Telefônicas de Ribeirão Preto - CETERP: Tapiratiba, pertencente a RG de São João da Boa Vista; Altinópolis, Brodósqui, Cajuru, Cássia dos Coqueiros, Jardinópolis, Ribeirão Preto, Santo Antônio da Alegria, Guatapará e Santa Cruz 2da Esperança,  pertencentes a RG de Ribeirão Preto; Paulistânia, pertencente a RG de Bauru; Fernão, pertencente a RG de Marília; Colômbia e Guaíra, pertencentes a RG de Barretos; Aramina, Batatais, Buritizal, Franca, Guará, Ituverava, Miguelópolis e Ribeirão Corrente, pertencentes a RG de Franca; Ipuã, Morro Agudo, Nuporanga, Orlândia, Sales de Oliveira e São Joaquim da Barra, municípios que compõem a RG de São Joaquim da Barra.</td>\n",
       "    </tr>\n",
       "    <tr>\n",
       "      <th>1</th>\n",
       "      <td>2</td>\n",
       "      <td>Os dados referem-se aos municípios de acordo com a divisão administrativa do Estado de São Paulo vigente no respectivo período:&lt;BR&gt;- até 1982, 571 municípios;&lt;BR&gt;- de 1983 a 1992, 572 municípios;&lt;BR&gt;- de 1993 a 1996, 625 municípios;&lt;BR&gt;- a partir 1997, 645 municípios.&lt;BR&gt;</td>\n",
       "    </tr>\n",
       "    <tr>\n",
       "      <th>2</th>\n",
       "      <td>3</td>\n",
       "      <td>A maior variabilidade nas taxas, em alguns  municípios, pode decorrer do número reduzido de  nascidos vivos e nascidos mortos, ocorridos em cada ano considerado.</td>\n",
       "    </tr>\n",
       "    <tr>\n",
       "      <th>3</th>\n",
       "      <td>4</td>\n",
       "      <td>Refere-se a vínculo empregatício remunerado, efetivamente ocupado em 31/12,referente a trabalhadores com carteira de trabalho assinada (regime da Consolidação das Leis do Trabalho - CLT), estatutários (funcionários públicos) e trabalhadores avulsos, temporários e outros, desde que formalmente contratados.Estes dados são informados pelos estabelecimentos quando da elaboração da Relação Anual de Informações Sociais - RAIS, do Ministério do Trabalho. Deve-se observar que: mesmo indivíduo pode estar acumulando, na data de referência, mais de um emprego (ANUÁRIO RAIS 1992). Esta diferença deve-se ao fato de que o levantamento é feito a partir dos estabelecimentos, considerando-se como estabelecimento as unidades de cada empresa separadas espacialmente, ou seja, endereços distintos (idem ibidem). b) A RAIS, como qualquer outro registro administrativo, apesar de ser uma declaração compulsória, está sujeita a erros e omissões, uma vez que nem todos os estabelecimentos respondem à pesquisa ou fornecem informações completas e fidedignas (PAINEL FIXO DA RAIS 1979/1992). C) A RAIS apresenta oscilações de cobertura ao longo dos anos, razão pela qual deve-se evitar a comparação dos totais de emprego. É difícil identificar se as variações ocorrem devido ao aumento ou à redução real do mercado de trabalho, ou de um melhor ou pior desempenho na declaração (PAINEL FIXO DA RAIS 1979/1992).</td>\n",
       "    </tr>\n",
       "    <tr>\n",
       "      <th>4</th>\n",
       "      <td>5</td>\n",
       "      <td>Em 1992 e 1993, os dados de número de  consumidores e consumo de energia do município de Holambra foram apurados apenas para a classe rural, sendo registrado um único consumidor nesta classe, com consumo de 19.180 MWh e  22.276 MWh, respectivamente. Em 1994 foram verificados 30 consumidores residenciais, com consumo de 34.734 KWh e, em 1995, não foi verificado nenhum consumidor em nenhuma das classes, mas registrou-se consumo residencial de 62.206 KWh. Para 1992, os dados de Holambra, para essa classe, foram somados aos do município de Jaguariúna. Em 1993, 1994 e 1995 os dados foram somados aos totais da Região de Governo, Região Administrativa e Estado. No município de Boracéia, em 1994, houve troca de roteiro e lote de consumidores, prejudicando a leitura de consumidores. Os dados, no entanto, foram somados aos totais da Região de Governo, Região Administrativa e Estado neste ano.</td>\n",
       "    </tr>\n",
       "  </tbody>\n",
       "</table>\n",
       "</div>"
      ],
      "text/plain": [
       "  codigo  \\\n",
       "0  1       \n",
       "1  2       \n",
       "2  3       \n",
       "3  4       \n",
       "4  5       \n",
       "\n",
       "                                                                                                                                                                                                                                                                                                                                                                                                                                                                                                                                                                                                                                                                                                                                                                                                                                                                                                                                                                                                                                                                                                                                                                                                                                                                                                                                                                                                                                                                                                                                                                                                                                                                                                                                                                                                                                                                                                                                                                                                                                                                                                                                                                                                                                                                                                                                                                                                                                                                                                                                                                                                                                                                                                                                                                                                                                                                                                                                                                              descricao  \n",
       "0  Os terminais incluem os terminais de uso público e não incluem os telefones celulares. Em 1980, as totalizações para o Estado, Região Administrativa de Bauru e Região de Governo de Jaú incluem os dados referentes aos municípios de Barra Bonita e Igaraçu do Tietê. Em 1985, as totalizações para o Estado e Região Metropolitana incluem os dados referentes aos municípios de Vargem Grande Paulista e Cotia. Apesar da inexistência de terminais telefônicos, em 1993, nos municípios novos de Torre de Pedra, Barra do Chapéu, Bom Sucesso de Itararé, Canitar, Nova Campina, Iaras, Itaoca e Itapirapuã Paulista, cabe ressaltar que tal fato não significa que estas localidades não tenham serviço telefônico. Na verdade, estes municípios possuem à sua disposição, pelo menos 1 telefone público ligado a um terminal contabilizado no município do qual se originou o desmembramento. Em 1993, o município de Águas de Santa Bárbara inclui os terminais telefônicos do município de Iaras; Porangaba inclui os terminais de Torre de Pedra; Apiai inclui os terminais de Barra do Chapéu e Itaoca; Itapeva inclui os terminais de Nova Campina; Itararé inclui os terminais de Bom Sucesso de Itararé; Ribeira inclui os terminais de Itapirapuã Paulista; Chavantes inclui os terminais de Canitar. Em 1994, o município de Águas de Santa Bárbara inclui os terminais telefônicos do município de Iaras; Porangaba inclui os terminais de Torre de Pedra; Itapeva inclui os terminais de Nova Campina; Itararé inclui os terminais de Bom Sucesso de Itararé; Artur Nogueira inclui os terminais de Engenheiro Coelho. Em 1995, Itararé inclui os terminais de Bom Sucesso de Itararé; Paranapuã inclui os terminais de Mesópolis; Assis inclui os terminais de Tarumã; Santa Cruz do Rio Pardo inclui os terminais de Espírito Santo do Turvo; Cajobi inclui os terminais de Embaúba. Em 1996, Santa Cruz do Rio Pardo inclui os terminais telefônicos do município de Espírito Santo do Turvo. Em 1999 o cálculo do coeficiente para as Regiões de Governo, Regiões Administrativas e Estado foi efetuado sem os dados de população e de terminais telefônicos referentes aos municípios que são operados pela Companhia de Telefones do Brasil Central - CTBC ou Centrais Telefônicas de Ribeirão Preto - CETERP: Tapiratiba, pertencente a RG de São João da Boa Vista; Altinópolis, Brodósqui, Cajuru, Cássia dos Coqueiros, Jardinópolis, Ribeirão Preto, Santo Antônio da Alegria, Guatapará e Santa Cruz 2da Esperança,  pertencentes a RG de Ribeirão Preto; Paulistânia, pertencente a RG de Bauru; Fernão, pertencente a RG de Marília; Colômbia e Guaíra, pertencentes a RG de Barretos; Aramina, Batatais, Buritizal, Franca, Guará, Ituverava, Miguelópolis e Ribeirão Corrente, pertencentes a RG de Franca; Ipuã, Morro Agudo, Nuporanga, Orlândia, Sales de Oliveira e São Joaquim da Barra, municípios que compõem a RG de São Joaquim da Barra.  \n",
       "1  Os dados referem-se aos municípios de acordo com a divisão administrativa do Estado de São Paulo vigente no respectivo período:<BR>- até 1982, 571 municípios;<BR>- de 1983 a 1992, 572 municípios;<BR>- de 1993 a 1996, 625 municípios;<BR>- a partir 1997, 645 municípios.<BR>                                                                                                                                                                                                                                                                                                                                                                                                                                                                                                                                                                                                                                                                                                                                                                                                                                                                                                                                                                                                                                                                                                                                                                                                                                                                                                                                                                                                                                                                                                                                                                                                                                                                                                                                                                                                                                                                                                                                                                                                                                                                                                                                                                                                                                                                                                                                                                                                                                                                                                                                                                                                                                                                                                      \n",
       "2  A maior variabilidade nas taxas, em alguns  municípios, pode decorrer do número reduzido de  nascidos vivos e nascidos mortos, ocorridos em cada ano considerado.                                                                                                                                                                                                                                                                                                                                                                                                                                                                                                                                                                                                                                                                                                                                                                                                                                                                                                                                                                                                                                                                                                                                                                                                                                                                                                                                                                                                                                                                                                                                                                                                                                                                                                                                                                                                                                                                                                                                                                                                                                                                                                                                                                                                                                                                                                                                                                                                                                                                                                                                                                                                                                                                                                                                                                                                                     \n",
       "3  Refere-se a vínculo empregatício remunerado, efetivamente ocupado em 31/12,referente a trabalhadores com carteira de trabalho assinada (regime da Consolidação das Leis do Trabalho - CLT), estatutários (funcionários públicos) e trabalhadores avulsos, temporários e outros, desde que formalmente contratados.Estes dados são informados pelos estabelecimentos quando da elaboração da Relação Anual de Informações Sociais - RAIS, do Ministério do Trabalho. Deve-se observar que: mesmo indivíduo pode estar acumulando, na data de referência, mais de um emprego (ANUÁRIO RAIS 1992). Esta diferença deve-se ao fato de que o levantamento é feito a partir dos estabelecimentos, considerando-se como estabelecimento as unidades de cada empresa separadas espacialmente, ou seja, endereços distintos (idem ibidem). b) A RAIS, como qualquer outro registro administrativo, apesar de ser uma declaração compulsória, está sujeita a erros e omissões, uma vez que nem todos os estabelecimentos respondem à pesquisa ou fornecem informações completas e fidedignas (PAINEL FIXO DA RAIS 1979/1992). C) A RAIS apresenta oscilações de cobertura ao longo dos anos, razão pela qual deve-se evitar a comparação dos totais de emprego. É difícil identificar se as variações ocorrem devido ao aumento ou à redução real do mercado de trabalho, ou de um melhor ou pior desempenho na declaração (PAINEL FIXO DA RAIS 1979/1992).                                                                                                                                                                                                                                                                                                                                                                                                                                                                                                                                                                                                                                                                                                                                                                                                                                                                                                                                                                                                                                                                                                                                                                                                                                                                                                                                                                                                                                                                                                                                     \n",
       "4  Em 1992 e 1993, os dados de número de  consumidores e consumo de energia do município de Holambra foram apurados apenas para a classe rural, sendo registrado um único consumidor nesta classe, com consumo de 19.180 MWh e  22.276 MWh, respectivamente. Em 1994 foram verificados 30 consumidores residenciais, com consumo de 34.734 KWh e, em 1995, não foi verificado nenhum consumidor em nenhuma das classes, mas registrou-se consumo residencial de 62.206 KWh. Para 1992, os dados de Holambra, para essa classe, foram somados aos do município de Jaguariúna. Em 1993, 1994 e 1995 os dados foram somados aos totais da Região de Governo, Região Administrativa e Estado. No município de Boracéia, em 1994, houve troca de roteiro e lote de consumidores, prejudicando a leitura de consumidores. Os dados, no entanto, foram somados aos totais da Região de Governo, Região Administrativa e Estado neste ano.                                                                                                                                                                                                                                                                                                                                                                                                                                                                                                                                                                                                                                                                                                                                                                                                                                                                                                                                                                                                                                                                                                                                                                                                                                                                                                                                                                                                                                                                                                                                                                                                                                                                                                                                                                                                                                                                                                                                                                                                                                                       "
      ]
     },
     "execution_count": 10,
     "metadata": {},
     "output_type": "execute_result"
    }
   ],
   "source": [
    "df_notas.head()"
   ]
  },
  {
   "cell_type": "code",
   "execution_count": null,
   "metadata": {},
   "outputs": [],
   "source": []
  },
  {
   "cell_type": "markdown",
   "metadata": {},
   "source": [
    "### Perfil Municipal - informações do município"
   ]
  },
  {
   "cell_type": "code",
   "execution_count": 11,
   "metadata": {},
   "outputs": [],
   "source": [
    "url = \"http://api-imp.seade.gov.br/v1/infmun/503\"\n",
    "r = requests.get(url).json()\n",
    "# df_notas = pd.DataFrame.from_records(r['notas'])"
   ]
  },
  {
   "cell_type": "code",
   "execution_count": null,
   "metadata": {},
   "outputs": [],
   "source": []
  },
  {
   "cell_type": "markdown",
   "metadata": {},
   "source": [
    "### Perfil Municipal - dados"
   ]
  },
  {
   "cell_type": "code",
   "execution_count": 13,
   "metadata": {},
   "outputs": [],
   "source": [
    "url = \"http://api-imp.seade.gov.br/v1/perfil/503\"\n",
    "r = requests.get(url).json()\n",
    "df_dados = pd.DataFrame.from_records(r['perfil'])"
   ]
  },
  {
   "cell_type": "code",
   "execution_count": 14,
   "metadata": {},
   "outputs": [
    {
     "data": {
      "text/plain": [
       "{'codigo_localidade': '503',\n",
       " 'localidade': 'São Paulo',\n",
       " 'codigo_localidade_pai': '681',\n",
       " 'nome_localidade_pai': 'Região Metropolitana de São Paulo',\n",
       " 'codigo_variavel': '1',\n",
       " 'variavel': 'Crédito Rural [Série interrompida]',\n",
       " 'unidade': '(Em reais de 2018)',\n",
       " 'periodo': '1985/1989-2011',\n",
       " 'ano': {'2011': '2.754.299.963'}}"
      ]
     },
     "execution_count": 14,
     "metadata": {},
     "output_type": "execute_result"
    }
   ],
   "source": [
    "r['perfil'][0]"
   ]
  },
  {
   "cell_type": "code",
   "execution_count": 15,
   "metadata": {},
   "outputs": [
    {
     "data": {
      "text/html": [
       "<div>\n",
       "<style scoped>\n",
       "    .dataframe tbody tr th:only-of-type {\n",
       "        vertical-align: middle;\n",
       "    }\n",
       "\n",
       "    .dataframe tbody tr th {\n",
       "        vertical-align: top;\n",
       "    }\n",
       "\n",
       "    .dataframe thead th {\n",
       "        text-align: right;\n",
       "    }\n",
       "</style>\n",
       "<table border=\"1\" class=\"dataframe\">\n",
       "  <thead>\n",
       "    <tr style=\"text-align: right;\">\n",
       "      <th></th>\n",
       "      <th>ano</th>\n",
       "      <th>codigo_localidade</th>\n",
       "      <th>codigo_localidade_pai</th>\n",
       "      <th>codigo_variavel</th>\n",
       "      <th>localidade</th>\n",
       "      <th>nome_localidade_pai</th>\n",
       "      <th>periodo</th>\n",
       "      <th>unidade</th>\n",
       "      <th>variavel</th>\n",
       "    </tr>\n",
       "  </thead>\n",
       "  <tbody>\n",
       "    <tr>\n",
       "      <th>0</th>\n",
       "      <td>{'2011': '2.754.299.963'}</td>\n",
       "      <td>503</td>\n",
       "      <td>681</td>\n",
       "      <td>1</td>\n",
       "      <td>São Paulo</td>\n",
       "      <td>Região Metropolitana de São Paulo</td>\n",
       "      <td>1985/1989-2011</td>\n",
       "      <td>(Em reais de 2018)</td>\n",
       "      <td>Crédito Rural [Série interrompida]</td>\n",
       "    </tr>\n",
       "    <tr>\n",
       "      <th>1</th>\n",
       "      <td>{'2011': '1.890.486.925'}</td>\n",
       "      <td>503</td>\n",
       "      <td>681</td>\n",
       "      <td>2</td>\n",
       "      <td>São Paulo</td>\n",
       "      <td>Região Metropolitana de São Paulo</td>\n",
       "      <td>1985/1989-2011</td>\n",
       "      <td>(Em reais de 2018)</td>\n",
       "      <td>Crédito Rural Agricultura [Série interrompida]</td>\n",
       "    </tr>\n",
       "    <tr>\n",
       "      <th>2</th>\n",
       "      <td>{'2011': '863.813.040'}</td>\n",
       "      <td>503</td>\n",
       "      <td>681</td>\n",
       "      <td>3</td>\n",
       "      <td>São Paulo</td>\n",
       "      <td>Região Metropolitana de São Paulo</td>\n",
       "      <td>1985/1989-2011</td>\n",
       "      <td>(Em reais de 2018)</td>\n",
       "      <td>Crédito Rural Pecuária [Série interrompida]</td>\n",
       "    </tr>\n",
       "    <tr>\n",
       "      <th>3</th>\n",
       "      <td>{'2001': 'Nossa Senhora da Penha de Franca'}</td>\n",
       "      <td>503</td>\n",
       "      <td>681</td>\n",
       "      <td>4</td>\n",
       "      <td>São Paulo</td>\n",
       "      <td>Região Metropolitana de São Paulo</td>\n",
       "      <td>2001</td>\n",
       "      <td>Não possui unidade</td>\n",
       "      <td>Santo Padroeiro</td>\n",
       "    </tr>\n",
       "    <tr>\n",
       "      <th>4</th>\n",
       "      <td>{'2019': '1.521,11'}</td>\n",
       "      <td>503</td>\n",
       "      <td>681</td>\n",
       "      <td>5</td>\n",
       "      <td>São Paulo</td>\n",
       "      <td>Região Metropolitana de São Paulo</td>\n",
       "      <td>1980-2019</td>\n",
       "      <td>(Em km2)</td>\n",
       "      <td>Área</td>\n",
       "    </tr>\n",
       "  </tbody>\n",
       "</table>\n",
       "</div>"
      ],
      "text/plain": [
       "                                            ano codigo_localidade codigo_localidade_pai codigo_variavel localidade                nome_localidade_pai         periodo             unidade                                        variavel\n",
       "0  {'2011': '2.754.299.963'}                     503               681                   1               São Paulo  Região Metropolitana de São Paulo  1985/1989-2011  (Em reais de 2018)  Crédito Rural [Série interrompida]            \n",
       "1  {'2011': '1.890.486.925'}                     503               681                   2               São Paulo  Região Metropolitana de São Paulo  1985/1989-2011  (Em reais de 2018)  Crédito Rural Agricultura [Série interrompida]\n",
       "2  {'2011': '863.813.040'}                       503               681                   3               São Paulo  Região Metropolitana de São Paulo  1985/1989-2011  (Em reais de 2018)  Crédito Rural Pecuária [Série interrompida]   \n",
       "3  {'2001': 'Nossa Senhora da Penha de Franca'}  503               681                   4               São Paulo  Região Metropolitana de São Paulo  2001            Não possui unidade  Santo Padroeiro                               \n",
       "4  {'2019': '1.521,11'}                          503               681                   5               São Paulo  Região Metropolitana de São Paulo  1980-2019       (Em km2)            Área                                          "
      ]
     },
     "execution_count": 15,
     "metadata": {},
     "output_type": "execute_result"
    }
   ],
   "source": [
    "df_dados.head()"
   ]
  },
  {
   "cell_type": "code",
   "execution_count": null,
   "metadata": {},
   "outputs": [],
   "source": []
  },
  {
   "cell_type": "markdown",
   "metadata": {},
   "source": [
    "### Dados\n",
    "\n",
    "- Path: /dados\n",
    "- Parâmetros: localidade/variável/ano\n",
    "\n",
    "* É obrigatório a informação de no mínimo dois parâmetros.\n",
    "\n",
    "* Coloque zero quando desejar trazer todos os dados de uma categoria."
   ]
  },
  {
   "cell_type": "code",
   "execution_count": 17,
   "metadata": {},
   "outputs": [
    {
     "data": {
      "text/html": [
       "<div>\n",
       "<style scoped>\n",
       "    .dataframe tbody tr th:only-of-type {\n",
       "        vertical-align: middle;\n",
       "    }\n",
       "\n",
       "    .dataframe tbody tr th {\n",
       "        vertical-align: top;\n",
       "    }\n",
       "\n",
       "    .dataframe thead th {\n",
       "        text-align: right;\n",
       "    }\n",
       "</style>\n",
       "<table border=\"1\" class=\"dataframe\">\n",
       "  <thead>\n",
       "    <tr style=\"text-align: right;\">\n",
       "      <th></th>\n",
       "      <th>ano</th>\n",
       "      <th>codigo_localidade</th>\n",
       "      <th>codigo_variavel</th>\n",
       "      <th>localidade</th>\n",
       "      <th>nome_localidade_pai</th>\n",
       "      <th>periodo</th>\n",
       "      <th>unidade</th>\n",
       "      <th>variavel</th>\n",
       "    </tr>\n",
       "  </thead>\n",
       "  <tbody>\n",
       "    <tr>\n",
       "      <th>0</th>\n",
       "      <td>{'2011': '130.963'}</td>\n",
       "      <td>554</td>\n",
       "      <td>1</td>\n",
       "      <td>Ubatuba</td>\n",
       "      <td>Região de Governo de Caraguatatuba</td>\n",
       "      <td>1985/1989-2011</td>\n",
       "      <td>(Em reais de 2018)</td>\n",
       "      <td>Crédito Rural [Série interrompida]</td>\n",
       "    </tr>\n",
       "    <tr>\n",
       "      <th>1</th>\n",
       "      <td>{'2011': '-'}</td>\n",
       "      <td>554</td>\n",
       "      <td>2</td>\n",
       "      <td>Ubatuba</td>\n",
       "      <td>Região de Governo de Caraguatatuba</td>\n",
       "      <td>1985/1989-2011</td>\n",
       "      <td>(Em reais de 2018)</td>\n",
       "      <td>Crédito Rural Agricultura [Série interrompida]</td>\n",
       "    </tr>\n",
       "    <tr>\n",
       "      <th>2</th>\n",
       "      <td>{'2011': '130.963'}</td>\n",
       "      <td>554</td>\n",
       "      <td>3</td>\n",
       "      <td>Ubatuba</td>\n",
       "      <td>Região de Governo de Caraguatatuba</td>\n",
       "      <td>1985/1989-2011</td>\n",
       "      <td>(Em reais de 2018)</td>\n",
       "      <td>Crédito Rural Pecuária [Série interrompida]</td>\n",
       "    </tr>\n",
       "    <tr>\n",
       "      <th>3</th>\n",
       "      <td>{'2011': '723,83'}</td>\n",
       "      <td>554</td>\n",
       "      <td>5</td>\n",
       "      <td>Ubatuba</td>\n",
       "      <td>Região de Governo de Caraguatatuba</td>\n",
       "      <td>1980-2019</td>\n",
       "      <td>(Em km2)</td>\n",
       "      <td>Área</td>\n",
       "    </tr>\n",
       "    <tr>\n",
       "      <th>4</th>\n",
       "      <td>{'2011': '79.706'}</td>\n",
       "      <td>554</td>\n",
       "      <td>55</td>\n",
       "      <td>Ubatuba</td>\n",
       "      <td>Região de Governo de Caraguatatuba</td>\n",
       "      <td>1980-2019</td>\n",
       "      <td>Não possui unidade</td>\n",
       "      <td>População</td>\n",
       "    </tr>\n",
       "  </tbody>\n",
       "</table>\n",
       "</div>"
      ],
      "text/plain": [
       "                   ano codigo_localidade codigo_variavel localidade                 nome_localidade_pai         periodo             unidade                                        variavel\n",
       "0  {'2011': '130.963'}  554               1               Ubatuba    Região de Governo de Caraguatatuba  1985/1989-2011  (Em reais de 2018)  Crédito Rural [Série interrompida]            \n",
       "1  {'2011': '-'}        554               2               Ubatuba    Região de Governo de Caraguatatuba  1985/1989-2011  (Em reais de 2018)  Crédito Rural Agricultura [Série interrompida]\n",
       "2  {'2011': '130.963'}  554               3               Ubatuba    Região de Governo de Caraguatatuba  1985/1989-2011  (Em reais de 2018)  Crédito Rural Pecuária [Série interrompida]   \n",
       "3  {'2011': '723,83'}   554               5               Ubatuba    Região de Governo de Caraguatatuba  1980-2019       (Em km2)            Área                                          \n",
       "4  {'2011': '79.706'}   554               55              Ubatuba    Região de Governo de Caraguatatuba  1980-2019       Não possui unidade  População                                     "
      ]
     },
     "execution_count": 17,
     "metadata": {},
     "output_type": "execute_result"
    }
   ],
   "source": [
    "url = \"http://api-imp.seade.gov.br/v1/dados/554/0/2011\"\n",
    "r = requests.get(url).json()\n",
    "df = pd.DataFrame.from_records(r['dados'])\n",
    "\n",
    "\n",
    "\n",
    "\n",
    "\n",
    "df.head()"
   ]
  },
  {
   "cell_type": "code",
   "execution_count": 18,
   "metadata": {},
   "outputs": [],
   "source": [
    "df['dado'] = df['ano'].apply(lambda x: list(x.values())[0])\n",
    "df['ano']  = df['ano'].apply(lambda x: list(x.keys())[0])"
   ]
  },
  {
   "cell_type": "code",
   "execution_count": null,
   "metadata": {},
   "outputs": [],
   "source": []
  },
  {
   "cell_type": "markdown",
   "metadata": {},
   "source": [
    "### Get Data"
   ]
  },
  {
   "cell_type": "code",
   "execution_count": 22,
   "metadata": {},
   "outputs": [],
   "source": [
    "# var_list\n",
    "locs = list(df_loc['codigo'].unique())\n",
    "anos = [i for i in range(1980,2021)]"
   ]
  },
  {
   "cell_type": "code",
   "execution_count": 34,
   "metadata": {},
   "outputs": [
    {
     "name": "stdout",
     "output_type": "stream",
     "text": [
      "localidades = 808\n",
      "variaveis   = 1347\n",
      "anos        = 41\n",
      "Total        = 44623416\n"
     ]
    }
   ],
   "source": [
    "print('localidades = {}'.format(len(locs)))\n",
    "print('variaveis   = {}'.format(len(var_list)))\n",
    "print('anos        = {}'.format(len(anos)))\n",
    "print('Total        = {}'.format(len(locs)*len(var_list)*len(anos)))\n"
   ]
  },
  {
   "cell_type": "code",
   "execution_count": 35,
   "metadata": {},
   "outputs": [],
   "source": [
    "def get_all_cities(locs,anos):\n",
    "    ### Generate a Clear Dataframe\n",
    "    df = pd.DataFrame([1])\n",
    "    df['ano']                 = 'missing'\n",
    "    df['codigo_localidade']   = 'missing'\n",
    "    df['codigo_variavel']     = 'missing'\n",
    "    df['localidade']          = 'missing'\n",
    "    df['nome_localidade_pai'] = 'missing'\n",
    "    df['periodo']             = 'missing'\n",
    "    df['unidade']             = 'missing'\n",
    "    df['variavel']            = 'missing'\n",
    "\n",
    "    df['loc'] = 'teste'\n",
    "    df['year']= 'teste'\n",
    "    df = df.drop(columns=[0])\n",
    "    df.to_csv(\"dados_consolidados_2.csv\", index=False, encoding='utf-8')\n",
    "    \n",
    "    count = 0\n",
    "    for localidade in locs:\n",
    "#     print(count,localidade)\n",
    "        count+=1\n",
    "        for ano in anos:\n",
    "            url = \"http://api-imp.seade.gov.br/v1/dados/{}/0/{}\".format(localidade,ano)\n",
    "    #           r = requests.get(url).json()\n",
    "    #             url = \"http://api-imp.seade.gov.br/v1/dados/0/2/2010\"\n",
    "            r = requests.get(url).json()\n",
    "            try:\n",
    "                df = pd.DataFrame.from_records(r['dados'])\n",
    "                df['loc'] = localidade\n",
    "                df['year']= ano\n",
    "\n",
    "            except:\n",
    "                df = pd.DataFrame([1])\n",
    "                df['ano']                 = 'missing'\n",
    "                df['codigo_localidade']   = 'missing'\n",
    "                df['codigo_variavel']     = 'missing'\n",
    "                df['localidade']          = 'missing'\n",
    "                df['nome_localidade_pai'] = 'missing'\n",
    "                df['periodo']             = 'missing'\n",
    "                df['unidade']             = 'missing'\n",
    "                df['variavel']            = 'missing'\n",
    "                df['loc'] = localidade\n",
    "                df['year']= ano\n",
    "                df = df.drop(columns=[0])\n",
    "\n",
    "    #         df_final = pd.concat([df_final,df], axis=0)\n",
    "    #         df.to_csv(\"dados_consolidados_3.csv\", index=False, encoding='utf-8')\n",
    "\n",
    "            df.to_csv(\"dados_consolidados_2.csv\", index=False, encoding='utf-8', mode='a', header=False)"
   ]
  },
  {
   "cell_type": "code",
   "execution_count": null,
   "metadata": {},
   "outputs": [],
   "source": []
  },
  {
   "cell_type": "code",
   "execution_count": null,
   "metadata": {},
   "outputs": [],
   "source": []
  },
  {
   "cell_type": "code",
   "execution_count": 36,
   "metadata": {},
   "outputs": [],
   "source": [
    "df_total_1 = pd.read_csv('dados_consolidados.csv')"
   ]
  },
  {
   "cell_type": "code",
   "execution_count": 37,
   "metadata": {},
   "outputs": [],
   "source": [
    "df_total_2 = pd.read_csv('dados_consolidados_2.csv')"
   ]
  },
  {
   "cell_type": "code",
   "execution_count": null,
   "metadata": {},
   "outputs": [],
   "source": []
  },
  {
   "cell_type": "code",
   "execution_count": 38,
   "metadata": {},
   "outputs": [],
   "source": [
    "df_final = pd.concat([df_total_1,df_total_2],axis=0)"
   ]
  },
  {
   "cell_type": "code",
   "execution_count": 1,
   "metadata": {},
   "outputs": [],
   "source": [
    "# df_final.to_csv('dados_consolidados_final.csv', index=False, encoding='utf-8', chunksize=20000)"
   ]
  },
  {
   "cell_type": "code",
   "execution_count": null,
   "metadata": {},
   "outputs": [],
   "source": []
  },
  {
   "cell_type": "markdown",
   "metadata": {},
   "source": [
    "# ICMS\n",
    "\n",
    "\n",
    "- Colunas capturadas 'Meses', 'ICMS (\\*\\*)', 'IPVA (\\*\\*\\*)', 'Fund.Exp-IPI (\\*\\*)', 'Comp. (\\*)', 'Total'\n",
    "\n",
    "- (Valores expressos em Reais)\n",
    "\n",
    "- (*)\tCompensação Financeira sobre Exploração de Gás, Energia Elétrica, Óleo Bruto, Xisto Betuminoso de acordo com a Lei 7.990 de 28/12/89\n",
    "\n",
    "- (**)\tAté fevereiro/2007, valores com desconto de 15% referente à transferência para o FUNDEF, de acordo com a Lei 9.424 de 24/12/1996. A partir de março de 2007 valores líquidos, descontados o montante transferido para o FUNDEB, de acordo com a Lei 11.494 de 20/06/2007. No período de março a dezembro de 2007, valores com desconto de 16,66%; no ano de 2008, valores com desconto de 18,33%; e a partir de janeiro de 2009, valores com desconto de 20%.\n",
    "\n",
    "- (***)\tValor referente à receita bruta sem desconto do FUNDEB, que, de acordo com a Lei 11.494 de 20/06/2007, corresponde a 6,66% no ano de 2007, 13,33% no ano de 2008 e 20,00% a partir do ano de 2009. Inclui, quando for o caso, receita de PPD – Programa de Parcelamento de Débitos.\n",
    "\n",
    "- Obs:\tAs divergências de centavos entre a soma das parcelas e o total decorrem de erro de aproximação\n",
    "\n",
    "\n",
    "\n",
    "\n",
    "- [Saiba mais sobre o Repasse de Tributos](https://www.fazenda.sp.gov.br/RepasseConsulta/Consulta/r1.asp)\n",
    "\n",
    "- Observação: As atualizações das contas bancárias para o repasse da cota-parte da arrecadação de IPVA e das receitas decorrentes do recebimento das multas de trânsito de convênio auto-gestão deverão ser informadas diretamente à Federação Brasileira dos Bancos - FEBRABAN, por meio de ofício assinado pelo Prefeito ou Secretário de Finanças ou Fazenda, com os dados discriminados no [Comunicado DA 86/2010](https://www.fazenda.sp.gov.br/RepasseConsulta/Consulta/comunicado.shtm)"
   ]
  },
  {
   "cell_type": "code",
   "execution_count": null,
   "metadata": {},
   "outputs": [],
   "source": []
  },
  {
   "cell_type": "markdown",
   "metadata": {},
   "source": [
    "## Bolsa Familia\n",
    "\n"
   ]
  },
  {
   "cell_type": "code",
   "execution_count": 39,
   "metadata": {},
   "outputs": [],
   "source": [
    "years = [i+1 for i in range(2003,2019)]\n",
    "\n",
    "for i in range(len(years)):\n",
    "    url = \"http://aplicacoes.mds.gov.br/sagi/servicos/misocial?q=*&fq=anomes_s:{}*&fq=tipo_s:mes_mu&wt=csv&fl=ibge:codigo_ibge,anomes:anomes_s,qtd_familias_beneficiarias_bolsa_familia,valor_repassado_bolsa_familia&rows=10000000&sort=anomes_s%20asc,%20codigo_ibge%20asc\".format(years[i])\n",
    "    df = pd.read_csv(url)\n",
    "    \n",
    "    if i==0:\n",
    "        df.head(0).to_csv('bolsa_familia.csv', index=False, encoding='utf-8')\n",
    "        \n",
    "    df.to_csv('bolsa_familia.csv', mode = 'a', header=False, index=False, encoding='utf-8')"
   ]
  },
  {
   "cell_type": "code",
   "execution_count": 52,
   "metadata": {},
   "outputs": [],
   "source": [
    "years = [i+1 for i in range(2013,2019)]\n",
    "\n",
    "for i in range(len(years)):\n",
    "    url = \"http://aplicacoes.mds.gov.br/sagi/servicos/misocial?fq=anomes_s:{}*&fq=tipo_s:mes_mu&indent=on&q=*:*&wt=csv&rows=10000000&sort=codigo_ibge%20asc,%20anomes_s%20asc&fl=ibge:codigo_ibge,siglauf:sigla_uf,anomes:anomes_s,qtd_ben_bas:tot_ben_bas_i,qtd_ben_var:tot_ben_bas_var_i,qtd_ben_bvj:tot_ben_bvj_i,qtd_ben_bvn:tot_ben_bvn_i,qtd_ben_bvg:tot_ben_bvg_i,qtd_ben_bsp:tot_ben_bsp_i\".format(years[i])\n",
    "    df = pd.read_csv(url)\n",
    "    \n",
    "    if i==0:\n",
    "        df.head(0).to_csv('bolsa_familia_more_variables.csv', index=False, encoding='utf-8')\n",
    "        \n",
    "    df.to_csv('bolsa_familia_more_variables.csv', mode = 'a', header=False, index=False, encoding='utf-8')"
   ]
  },
  {
   "cell_type": "code",
   "execution_count": null,
   "metadata": {},
   "outputs": [],
   "source": []
  },
  {
   "cell_type": "markdown",
   "metadata": {},
   "source": [
    "## BPC"
   ]
  },
  {
   "cell_type": "code",
   "execution_count": 45,
   "metadata": {},
   "outputs": [],
   "source": [
    "years = [i+1 for i in range(2003,2019)]\n",
    "\n",
    "for i in range(len(years)):\n",
    "    url = \"http://aplicacoes.mds.gov.br/sagi/servicos/misocial?q=*&fq=anomes_s:{}*&fq=tipo_s:mes_mu&wt=csv&omitHeader=true&fl=ibge:codigo_ibge,anomes:anomes_s,bpc_ben:bpc_ben_i,bpc_pcd_ben:bpc_pcd_ben_i,bpc_idoso_ben:bpc_idoso_ben_i,bpc_pcd_val:bpc_pcd_val_s,bpc_idoso_val:bpc_idoso_val_s,bpc_val:bpc_val_s&rows=100000000&sort=anomes_s%20asc,%20codigo_ibge%20asc\".format(years[i])\n",
    "    df = pd.read_csv(url)\n",
    "    \n",
    "    if i==0:\n",
    "        df.head(0).to_csv('bpc.csv', index=False, encoding='utf-8') \n",
    "    \n",
    "    df.to_csv('bpc.csv', mode = 'a', header=False, index=False, encoding='utf-8')"
   ]
  },
  {
   "cell_type": "code",
   "execution_count": null,
   "metadata": {},
   "outputs": [],
   "source": []
  },
  {
   "cell_type": "code",
   "execution_count": 46,
   "metadata": {},
   "outputs": [],
   "source": []
  },
  {
   "cell_type": "code",
   "execution_count": null,
   "metadata": {},
   "outputs": [],
   "source": []
  },
  {
   "cell_type": "code",
   "execution_count": null,
   "metadata": {},
   "outputs": [],
   "source": []
  },
  {
   "cell_type": "code",
   "execution_count": null,
   "metadata": {},
   "outputs": [],
   "source": []
  }
 ],
 "metadata": {
  "kernelspec": {
   "display_name": "Python 3",
   "language": "python",
   "name": "python3"
  },
  "language_info": {
   "codemirror_mode": {
    "name": "ipython",
    "version": 3
   },
   "file_extension": ".py",
   "mimetype": "text/x-python",
   "name": "python",
   "nbconvert_exporter": "python",
   "pygments_lexer": "ipython3",
   "version": "3.7.4"
  },
  "toc": {
   "base_numbering": 1,
   "nav_menu": {},
   "number_sections": true,
   "sideBar": true,
   "skip_h1_title": false,
   "title_cell": "Table of Contents",
   "title_sidebar": "Contents",
   "toc_cell": false,
   "toc_position": {},
   "toc_section_display": true,
   "toc_window_display": false
  }
 },
 "nbformat": 4,
 "nbformat_minor": 2
}
