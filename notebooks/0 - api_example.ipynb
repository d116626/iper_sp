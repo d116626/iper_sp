{
 "cells": [
  {
   "cell_type": "code",
   "execution_count": 2,
   "metadata": {},
   "outputs": [
    {
     "data": {
      "text/html": [
       "<script type=\"text/javascript\">window.PlotlyConfig = {MathJaxConfig: 'local'};</script><script type=\"text/javascript\">if (window.MathJax) {MathJax.Hub.Config({SVG: {font: \"STIX-Web\"}});}</script><script>requirejs.config({paths: { 'plotly': ['https://cdn.plot.ly/plotly-latest.min']},});if(!window._Plotly) {require(['plotly'],function(plotly) {window._Plotly=plotly;});}</script>"
      ],
      "text/vnd.plotly.v1+html": [
       "<script type=\"text/javascript\">window.PlotlyConfig = {MathJaxConfig: 'local'};</script><script type=\"text/javascript\">if (window.MathJax) {MathJax.Hub.Config({SVG: {font: \"STIX-Web\"}});}</script><script>requirejs.config({paths: { 'plotly': ['https://cdn.plot.ly/plotly-latest.min']},});if(!window._Plotly) {require(['plotly'],function(plotly) {window._Plotly=plotly;});}</script>"
      ]
     },
     "metadata": {},
     "output_type": "display_data"
    }
   ],
   "source": [
    "%reload_ext autoreload\n",
    "%autoreload 2\n",
    "\n",
    "import sys\n",
    "from pathlib import Path \n",
    "current_path = Path().resolve()\n",
    "abs_path = str(current_path.parent)\n",
    "sys.path.append(abs_path)\n",
    "\n",
    "RAW_PATH = current_path.parent / 'data' / 'raw'\n",
    "OUTPUT_PATH = current_path.parent / 'data' / 'output'\n",
    "import warnings\n",
    "warnings.filterwarnings('ignore')\n",
    "import pandas as pd\n",
    "pd.set_option('display.max_columns', None)\n",
    "import matplotlib.pyplot as plt\n",
    "import seaborn as sns\n",
    "\n",
    "import plotly\n",
    "from plotly.offline import download_plotlyjs, init_notebook_mode, plot, iplot\n",
    "# from plotly.plotly import iplot\n",
    "import plotly.graph_objs as go\n",
    "import plotly.io as pio\n",
    "\n",
    "# plotly.tools.set_credentials_file(username='d116626', api_key='rCLXowBHHQLJHHzTxSNM')\n",
    "init_notebook_mode(connected=True)\n",
    "\n",
    "import numpy as np\n",
    "\n",
    "\n",
    "import missingno as msno\n",
    "\n",
    "stats = ['skew', 'mad', 'kurt']\n",
    "\n",
    "\n",
    "import qgrid\n",
    "\n",
    "def qg(df):\n",
    "    return(qgrid.show_grid(df,show_toolbar=True, grid_options={'forceFitColumns': False}))\n",
    "\n",
    "\n",
    "from sklearn.model_selection import train_test_split\n",
    "from sklearn.neighbors import KNeighborsClassifier\n",
    "from sklearn import metrics\n",
    "from sklearn.metrics import classification_report, confusion_matrix\n",
    "from sklearn.model_selection import train_test_split\n",
    "\n",
    "import itertools\n",
    "pd.set_option(\"display.max_rows\",200)\n",
    "\n",
    "\n",
    "import requests\n",
    "import json\n",
    "import xmltodict\n",
    "import re\n",
    "import urllib.request as urllib2\n",
    "import io"
   ]
  },
  {
   "cell_type": "markdown",
   "metadata": {},
   "source": [
    "# Dados Abertos"
   ]
  },
  {
   "cell_type": "code",
   "execution_count": 4,
   "metadata": {},
   "outputs": [],
   "source": [
    "def from_api(url,xml):\n",
    "    \n",
    "    if xml == 0:\n",
    "        j = json.loads(requests.get(url).text)\n",
    "        df = pd.DataFrame.from_dict(j[list(j.keys())[0]])\n",
    "        \n",
    "        \n",
    "        \n",
    "        \n",
    "    else:\n",
    "        data = requests.get(url)\n",
    "        xpars = xmltodict.parse(data.text)\n",
    "        df = pd.DataFrame.from_dict(xpars[[list(xpars.keys())[0]]])\n",
    "        df = df.transp\n",
    "        ose().reset_index()\n",
    "        \n",
    "    return(df)\n",
    "\n",
    "def padroniza(df,cols):\n",
    "    \n",
    "    for col in cols:\n",
    "        df[col] = np.where(df[col].apply(type)==str, \n",
    "                           df[col].str.strip(),\n",
    "                           df[col]\n",
    "                          )\n",
    "    return(df)\n"
   ]
  },
  {
   "cell_type": "markdown",
   "metadata": {},
   "source": [
    "## Referencias"
   ]
  },
  {
   "cell_type": "code",
   "execution_count": 3,
   "metadata": {},
   "outputs": [],
   "source": [
    "ref_codSituacao =             from_api('https://dadosabertos.camara.leg.br/api/v2/referencias/proposicoes/codSituacao',xml=0)\n",
    "ref_codTema =                 from_api('https://dadosabertos.camara.leg.br/api/v2/referencias/proposicoes/codTema',xml=0)\n",
    "ref_codTipoTramitacao =       from_api('https://dadosabertos.camara.leg.br/api/v2/referencias/proposicoes/codTipoTramitacao',xml=0)\n",
    "ref_siglaTipo =               from_api('https://dadosabertos.camara.leg.br/api/v2/referencias/proposicoes/siglaTipo',xml=0)\n",
    "ref_situacoesProposicao =     from_api('https://dadosabertos.camara.leg.br/api/v2/referencias/situacoesProposicao',xml=0)\n",
    "ref_tiposProposicao =         from_api('https://dadosabertos.camara.leg.br/api/v2/referencias/tiposProposicao',xml=0)\n",
    "ref_tiposTramitacao =         from_api('https://dadosabertos.camara.leg.br/api/v2/referencias/tiposTramitacao',xml=0)\n",
    "\n"
   ]
  },
  {
   "cell_type": "code",
   "execution_count": null,
   "metadata": {},
   "outputs": [],
   "source": []
  },
  {
   "cell_type": "code",
   "execution_count": 7,
   "metadata": {},
   "outputs": [],
   "source": []
  },
  {
   "cell_type": "code",
   "execution_count": 21,
   "metadata": {},
   "outputs": [
    {
     "data": {
      "text/plain": [
       "{'fontes': [{'codigo': '1', 'nome': 'Território e População'},\n",
       "  {'codigo': '2', 'nome': 'Estatísticas Vitais e Saúde'},\n",
       "  {'codigo': '3', 'nome': 'Condições de Vida'},\n",
       "  {'codigo': '4', 'nome': 'Habitação e Infraestrutura Urbana'},\n",
       "  {'codigo': '5', 'nome': 'Educação'},\n",
       "  {'codigo': '6', 'nome': 'Emprego e Rendimento'},\n",
       "  {'codigo': '7', 'nome': 'Economia'}]}"
      ]
     },
     "execution_count": 21,
     "metadata": {},
     "output_type": "execute_result"
    }
   ],
   "source": []
  },
  {
   "cell_type": "code",
   "execution_count": null,
   "metadata": {},
   "outputs": [],
   "source": []
  },
  {
   "cell_type": "code",
   "execution_count": null,
   "metadata": {},
   "outputs": [],
   "source": []
  },
  {
   "cell_type": "code",
   "execution_count": null,
   "metadata": {},
   "outputs": [],
   "source": []
  },
  {
   "cell_type": "code",
   "execution_count": null,
   "metadata": {},
   "outputs": [],
   "source": []
  },
  {
   "cell_type": "code",
   "execution_count": null,
   "metadata": {},
   "outputs": [],
   "source": []
  },
  {
   "cell_type": "code",
   "execution_count": null,
   "metadata": {},
   "outputs": [],
   "source": []
  },
  {
   "cell_type": "code",
   "execution_count": null,
   "metadata": {},
   "outputs": [],
   "source": []
  },
  {
   "cell_type": "code",
   "execution_count": 6,
   "metadata": {},
   "outputs": [
    {
     "ename": "ExpatError",
     "evalue": "not well-formed (invalid token): line 1, column 0",
     "output_type": "error",
     "traceback": [
      "\u001b[0;31m---------------------------------------------------------------------------\u001b[0m",
      "\u001b[0;31mExpatError\u001b[0m                                Traceback (most recent call last)",
      "\u001b[0;32m<ipython-input-6-7ee3e629e486>\u001b[0m in \u001b[0;36m<module>\u001b[0;34m\u001b[0m\n\u001b[1;32m      1\u001b[0m \u001b[0mdata\u001b[0m \u001b[0;34m=\u001b[0m \u001b[0mrequests\u001b[0m\u001b[0;34m.\u001b[0m\u001b[0mget\u001b[0m\u001b[0;34m(\u001b[0m\u001b[0murl\u001b[0m\u001b[0;34m)\u001b[0m\u001b[0;34m\u001b[0m\u001b[0;34m\u001b[0m\u001b[0m\n\u001b[0;32m----> 2\u001b[0;31m \u001b[0mxpars\u001b[0m \u001b[0;34m=\u001b[0m \u001b[0mxmltodict\u001b[0m\u001b[0;34m.\u001b[0m\u001b[0mparse\u001b[0m\u001b[0;34m(\u001b[0m\u001b[0mdata\u001b[0m\u001b[0;34m.\u001b[0m\u001b[0mtext\u001b[0m\u001b[0;34m)\u001b[0m\u001b[0;34m\u001b[0m\u001b[0;34m\u001b[0m\u001b[0m\n\u001b[0m\u001b[1;32m      3\u001b[0m \u001b[0mdf\u001b[0m \u001b[0;34m=\u001b[0m \u001b[0mpd\u001b[0m\u001b[0;34m.\u001b[0m\u001b[0mDataFrame\u001b[0m\u001b[0;34m.\u001b[0m\u001b[0mfrom_dict\u001b[0m\u001b[0;34m(\u001b[0m\u001b[0mxpars\u001b[0m\u001b[0;34m[\u001b[0m\u001b[0;34m[\u001b[0m\u001b[0mlist\u001b[0m\u001b[0;34m(\u001b[0m\u001b[0mxpars\u001b[0m\u001b[0;34m.\u001b[0m\u001b[0mkeys\u001b[0m\u001b[0;34m(\u001b[0m\u001b[0;34m)\u001b[0m\u001b[0;34m)\u001b[0m\u001b[0;34m[\u001b[0m\u001b[0;36m0\u001b[0m\u001b[0;34m]\u001b[0m\u001b[0;34m]\u001b[0m\u001b[0;34m]\u001b[0m\u001b[0;34m)\u001b[0m\u001b[0;34m\u001b[0m\u001b[0;34m\u001b[0m\u001b[0m\n\u001b[1;32m      4\u001b[0m \u001b[0mdf\u001b[0m \u001b[0;34m=\u001b[0m \u001b[0mdf\u001b[0m\u001b[0;34m.\u001b[0m\u001b[0mtransp\u001b[0m\u001b[0;34m\u001b[0m\u001b[0;34m\u001b[0m\u001b[0m\n\u001b[1;32m      5\u001b[0m \u001b[0mose\u001b[0m\u001b[0;34m(\u001b[0m\u001b[0;34m)\u001b[0m\u001b[0;34m.\u001b[0m\u001b[0mreset_index\u001b[0m\u001b[0;34m(\u001b[0m\u001b[0;34m)\u001b[0m\u001b[0;34m\u001b[0m\u001b[0;34m\u001b[0m\u001b[0m\n",
      "\u001b[0;32m~/python/anaconda3/lib/python3.7/site-packages/xmltodict.py\u001b[0m in \u001b[0;36mparse\u001b[0;34m(xml_input, encoding, expat, process_namespaces, namespace_separator, disable_entities, **kwargs)\u001b[0m\n\u001b[1;32m    325\u001b[0m         \u001b[0mparser\u001b[0m\u001b[0;34m.\u001b[0m\u001b[0mParseFile\u001b[0m\u001b[0;34m(\u001b[0m\u001b[0mxml_input\u001b[0m\u001b[0;34m)\u001b[0m\u001b[0;34m\u001b[0m\u001b[0;34m\u001b[0m\u001b[0m\n\u001b[1;32m    326\u001b[0m     \u001b[0;32melse\u001b[0m\u001b[0;34m:\u001b[0m\u001b[0;34m\u001b[0m\u001b[0;34m\u001b[0m\u001b[0m\n\u001b[0;32m--> 327\u001b[0;31m         \u001b[0mparser\u001b[0m\u001b[0;34m.\u001b[0m\u001b[0mParse\u001b[0m\u001b[0;34m(\u001b[0m\u001b[0mxml_input\u001b[0m\u001b[0;34m,\u001b[0m \u001b[0;32mTrue\u001b[0m\u001b[0;34m)\u001b[0m\u001b[0;34m\u001b[0m\u001b[0;34m\u001b[0m\u001b[0m\n\u001b[0m\u001b[1;32m    328\u001b[0m     \u001b[0;32mreturn\u001b[0m \u001b[0mhandler\u001b[0m\u001b[0;34m.\u001b[0m\u001b[0mitem\u001b[0m\u001b[0;34m\u001b[0m\u001b[0;34m\u001b[0m\u001b[0m\n\u001b[1;32m    329\u001b[0m \u001b[0;34m\u001b[0m\u001b[0m\n",
      "\u001b[0;31mExpatError\u001b[0m: not well-formed (invalid token): line 1, column 0"
     ]
    }
   ],
   "source": [
    "xpars = xmltodict.parse(data.text)\n",
    "df = pd.DataFrame.from_dict(xpars[[list(xpars.keys())[0]]])\n",
    "df = df.transp\n",
    "ose().reset_index()"
   ]
  },
  {
   "cell_type": "code",
   "execution_count": null,
   "metadata": {},
   "outputs": [],
   "source": []
  },
  {
   "cell_type": "code",
   "execution_count": null,
   "metadata": {},
   "outputs": [],
   "source": []
  },
  {
   "cell_type": "code",
   "execution_count": null,
   "metadata": {},
   "outputs": [],
   "source": []
  },
  {
   "cell_type": "code",
   "execution_count": null,
   "metadata": {},
   "outputs": [],
   "source": []
  },
  {
   "cell_type": "markdown",
   "metadata": {},
   "source": [
    "## Proposições"
   ]
  },
  {
   "cell_type": "code",
   "execution_count": 112,
   "metadata": {},
   "outputs": [],
   "source": [
    "#844 - 2181294\n",
    "#868 - 2190282\n",
    "\n",
    "prop_id = 2190282\n",
    "start = '1970-05-01'\n",
    "end = '2020-01-01'\n",
    "\n",
    "infos_props = 'https://dadosabertos.camara.leg.br/api/v2/proposicoes/{}'.format(prop_id)\n",
    "autores_props = 'https://dadosabertos.camara.leg.br/api/v2/proposicoes/{}/autores'.format(prop_id)\n",
    "rel_props = 'https://dadosabertos.camara.leg.br/api/v2/proposicoes/{}/relacionadas'.format(prop_id)\n",
    "temas_props = 'https://dadosabertos.camara.leg.br/api/v2/proposicoes/{}/temas'.format(prop_id)\n",
    "trami_props = 'https://dadosabertos.camara.leg.br/api/v2/proposicoes/{}/tramitacoes?dataInicio={}&dataFim={}'.format(prop_id,start,end)"
   ]
  },
  {
   "cell_type": "code",
   "execution_count": 113,
   "metadata": {},
   "outputs": [],
   "source": [
    "df_temas = from_api(temas_props,xml=0)\n",
    "df_tram = from_api(trami_props,xml=0)\n",
    "df_rel = from_api(rel_props,xml=0)\n",
    "df_info = from_api(infos_props,xml=0)"
   ]
  },
  {
   "cell_type": "code",
   "execution_count": 114,
   "metadata": {},
   "outputs": [],
   "source": [
    "def rename(df):\n",
    "    cols = list(df.columns)\n",
    "    cols = [re.sub(r\"(\\w)([A-Z])\", r\"\\1_\\2\",i).lower() for i in cols]\n",
    "    df.columns=cols\n",
    "    return df\n",
    "\n",
    "df_temas = rename(df_temas)\n",
    "df_tram = rename(df_tram)\n",
    "df_rel = rename(df_rel)\n",
    "df_info = rename(df_info)"
   ]
  },
  {
   "cell_type": "code",
   "execution_count": 115,
   "metadata": {},
   "outputs": [],
   "source": [
    "# cod_situacao        = dict(zip(list(ref_codSituacao['cod']), (ref_codSituacao['nome'])))\n",
    "# cod_tipo_tramitacao = dict(zip(list(ref_codTipoTramitacao['cod']), (ref_codTipoTramitacao['nome'])))"
   ]
  },
  {
   "cell_type": "code",
   "execution_count": 116,
   "metadata": {},
   "outputs": [],
   "source": [
    "# cols = {'cod_situacao':cod_situacao,'cod_tipo_tramitacao':cod_tipo_tramitacao}\n",
    "\n",
    "# for col in cols:\n",
    "\n",
    "#     df_tram[col] = df_tram[col].fillna(12345678).astype(np.int64).astype(str).replace('12345678',np.nan)\n",
    "#     df_tram['{}_ref'.format(col)] = df_tram[col].map(cols[col])\n"
   ]
  },
  {
   "cell_type": "code",
   "execution_count": 117,
   "metadata": {},
   "outputs": [],
   "source": [
    "# cols = ['cod_situacao','cod_situacao_ref', 'cod_tipo_tramitacao','cod_tipo_tramitacao_ref', 'data_hora',\n",
    "#        'descricao_situacao', 'descricao_tramitacao', 'despacho', 'regime',\n",
    "#        'sequencia', 'sigla_orgao', 'uri_orgao', 'url']\n",
    "\n",
    "\n",
    "# df_tram = df_tram[cols]"
   ]
  },
  {
   "cell_type": "code",
   "execution_count": 118,
   "metadata": {},
   "outputs": [
    {
     "data": {
      "text/html": [
       "<div>\n",
       "<style scoped>\n",
       "    .dataframe tbody tr th:only-of-type {\n",
       "        vertical-align: middle;\n",
       "    }\n",
       "\n",
       "    .dataframe tbody tr th {\n",
       "        vertical-align: top;\n",
       "    }\n",
       "\n",
       "    .dataframe thead th {\n",
       "        text-align: right;\n",
       "    }\n",
       "</style>\n",
       "<table border=\"1\" class=\"dataframe\">\n",
       "  <thead>\n",
       "    <tr style=\"text-align: right;\">\n",
       "      <th></th>\n",
       "      <th>cod_tema</th>\n",
       "      <th>relevancia</th>\n",
       "      <th>tema</th>\n",
       "    </tr>\n",
       "  </thead>\n",
       "  <tbody>\n",
       "    <tr>\n",
       "      <th>0</th>\n",
       "      <td>41</td>\n",
       "      <td>0</td>\n",
       "      <td>Cidades e Desenvolvimento Urbano</td>\n",
       "    </tr>\n",
       "    <tr>\n",
       "      <th>1</th>\n",
       "      <td>48</td>\n",
       "      <td>0</td>\n",
       "      <td>Meio Ambiente e Desenvolvimento Sustentável</td>\n",
       "    </tr>\n",
       "    <tr>\n",
       "      <th>2</th>\n",
       "      <td>56</td>\n",
       "      <td>0</td>\n",
       "      <td>Saúde</td>\n",
       "    </tr>\n",
       "  </tbody>\n",
       "</table>\n",
       "</div>"
      ],
      "text/plain": [
       "   cod_tema  relevancia                                         tema\n",
       "0        41           0             Cidades e Desenvolvimento Urbano\n",
       "1        48           0  Meio Ambiente e Desenvolvimento Sustentável\n",
       "2        56           0                                        Saúde"
      ]
     },
     "execution_count": 118,
     "metadata": {},
     "output_type": "execute_result"
    }
   ],
   "source": [
    "df_temas"
   ]
  },
  {
   "cell_type": "code",
   "execution_count": 119,
   "metadata": {},
   "outputs": [
    {
     "data": {
      "text/html": [
       "<div>\n",
       "<style scoped>\n",
       "    .dataframe tbody tr th:only-of-type {\n",
       "        vertical-align: middle;\n",
       "    }\n",
       "\n",
       "    .dataframe tbody tr th {\n",
       "        vertical-align: top;\n",
       "    }\n",
       "\n",
       "    .dataframe thead th {\n",
       "        text-align: right;\n",
       "    }\n",
       "</style>\n",
       "<table border=\"1\" class=\"dataframe\">\n",
       "  <thead>\n",
       "    <tr style=\"text-align: right;\">\n",
       "      <th></th>\n",
       "      <th>cod_situacao</th>\n",
       "      <th>cod_tipo_tramitacao</th>\n",
       "      <th>data_hora</th>\n",
       "      <th>descricao_situacao</th>\n",
       "      <th>descricao_tramitacao</th>\n",
       "      <th>despacho</th>\n",
       "      <th>regime</th>\n",
       "      <th>sequencia</th>\n",
       "      <th>sigla_orgao</th>\n",
       "      <th>uri_orgao</th>\n",
       "      <th>url</th>\n",
       "    </tr>\n",
       "  </thead>\n",
       "  <tbody>\n",
       "    <tr>\n",
       "      <th>0</th>\n",
       "      <td>NaN</td>\n",
       "      <td>350</td>\n",
       "      <td>2018-12-28T00:00</td>\n",
       "      <td>None</td>\n",
       "      <td>Abertura de Prazo</td>\n",
       "      <td>Prazo para Emendas: 04/02/2019 a 11/02/2019. C...</td>\n",
       "      <td>Urgência (Art. 62, CF)</td>\n",
       "      <td>3</td>\n",
       "      <td>CN</td>\n",
       "      <td>https://dadosabertos.camara.leg.br/api/v2/orga...</td>\n",
       "      <td>None</td>\n",
       "    </tr>\n",
       "    <tr>\n",
       "      <th>1</th>\n",
       "      <td>NaN</td>\n",
       "      <td>100</td>\n",
       "      <td>2018-12-28T10:08</td>\n",
       "      <td>None</td>\n",
       "      <td>Apresentação de Proposição</td>\n",
       "      <td>Publicação da Medida Provisória no Diário Ofic...</td>\n",
       "      <td>Urgência (Art. 62, CF)</td>\n",
       "      <td>1</td>\n",
       "      <td>EXEC</td>\n",
       "      <td>https://dadosabertos.camara.leg.br/api/v2/orga...</td>\n",
       "      <td>http://www.camara.gov.br/proposicoesWeb/prop_m...</td>\n",
       "    </tr>\n",
       "    <tr>\n",
       "      <th>2</th>\n",
       "      <td>NaN</td>\n",
       "      <td>1004</td>\n",
       "      <td>2018-12-28T17:20</td>\n",
       "      <td>None</td>\n",
       "      <td>Notificação (CeDi) - Legislação Citada</td>\n",
       "      <td>Encaminhado  à CEDI (Legislação Citada)</td>\n",
       "      <td>Urgência (Art. 62, CF)</td>\n",
       "      <td>2</td>\n",
       "      <td>CEDI</td>\n",
       "      <td>https://dadosabertos.camara.leg.br/api/v2/orga...</td>\n",
       "      <td>None</td>\n",
       "    </tr>\n",
       "    <tr>\n",
       "      <th>3</th>\n",
       "      <td>917.0</td>\n",
       "      <td>1002</td>\n",
       "      <td>2019-02-20T00:00</td>\n",
       "      <td>Aguardando Recebimento</td>\n",
       "      <td>Notificação - Pasta genérica</td>\n",
       "      <td>Ofício n. 67-CN, de 20/02/19, comunica a const...</td>\n",
       "      <td>Urgência (Art. 62, CF)</td>\n",
       "      <td>4</td>\n",
       "      <td>MESA</td>\n",
       "      <td>https://dadosabertos.camara.leg.br/api/v2/orga...</td>\n",
       "      <td>None</td>\n",
       "    </tr>\n",
       "  </tbody>\n",
       "</table>\n",
       "</div>"
      ],
      "text/plain": [
       "   cod_situacao cod_tipo_tramitacao         data_hora      descricao_situacao  \\\n",
       "0           NaN                 350  2018-12-28T00:00                    None   \n",
       "1           NaN                 100  2018-12-28T10:08                    None   \n",
       "2           NaN                1004  2018-12-28T17:20                    None   \n",
       "3         917.0                1002  2019-02-20T00:00  Aguardando Recebimento   \n",
       "\n",
       "                     descricao_tramitacao  \\\n",
       "0                       Abertura de Prazo   \n",
       "1              Apresentação de Proposição   \n",
       "2  Notificação (CeDi) - Legislação Citada   \n",
       "3            Notificação - Pasta genérica   \n",
       "\n",
       "                                            despacho                  regime  \\\n",
       "0  Prazo para Emendas: 04/02/2019 a 11/02/2019. C...  Urgência (Art. 62, CF)   \n",
       "1  Publicação da Medida Provisória no Diário Ofic...  Urgência (Art. 62, CF)   \n",
       "2            Encaminhado  à CEDI (Legislação Citada)  Urgência (Art. 62, CF)   \n",
       "3  Ofício n. 67-CN, de 20/02/19, comunica a const...  Urgência (Art. 62, CF)   \n",
       "\n",
       "   sequencia sigla_orgao                                          uri_orgao  \\\n",
       "0          3          CN  https://dadosabertos.camara.leg.br/api/v2/orga...   \n",
       "1          1        EXEC  https://dadosabertos.camara.leg.br/api/v2/orga...   \n",
       "2          2        CEDI  https://dadosabertos.camara.leg.br/api/v2/orga...   \n",
       "3          4        MESA  https://dadosabertos.camara.leg.br/api/v2/orga...   \n",
       "\n",
       "                                                 url  \n",
       "0                                               None  \n",
       "1  http://www.camara.gov.br/proposicoesWeb/prop_m...  \n",
       "2                                               None  \n",
       "3                                               None  "
      ]
     },
     "execution_count": 119,
     "metadata": {},
     "output_type": "execute_result"
    }
   ],
   "source": [
    "df_tram"
   ]
  },
  {
   "cell_type": "code",
   "execution_count": null,
   "metadata": {},
   "outputs": [],
   "source": []
  },
  {
   "cell_type": "code",
   "execution_count": null,
   "metadata": {},
   "outputs": [],
   "source": []
  },
  {
   "cell_type": "code",
   "execution_count": null,
   "metadata": {},
   "outputs": [],
   "source": []
  },
  {
   "cell_type": "code",
   "execution_count": null,
   "metadata": {},
   "outputs": [],
   "source": []
  },
  {
   "cell_type": "markdown",
   "metadata": {},
   "source": [
    "# Versão antiga da API"
   ]
  },
  {
   "cell_type": "markdown",
   "metadata": {},
   "source": [
    "## Proposiçoes por ano"
   ]
  },
  {
   "cell_type": "code",
   "execution_count": 8,
   "metadata": {},
   "outputs": [],
   "source": [
    "def remove_dict(df,name1):\n",
    "    df_parsed = df[name1].apply(pd.Series)\n",
    "    old_names=list(df_parsed.columns)\n",
    "    new_names = ['{}_{}'.format(name1,i) for i in old_names]\n",
    "    old_to_new = dict(zip(old_names, new_names))\n",
    "    df_parsed = df_parsed.rename(columns=old_to_new)\n",
    "    df_final = pd.concat([df, df_parsed], axis = 1).drop(name1, axis = 1)\n",
    "    \n",
    "    return df_final\n",
    "\n",
    "def remove_all_dict(df):\n",
    "    continu=True\n",
    "    while continu==True:\n",
    "\n",
    "\n",
    "        contin=[]\n",
    "        for column in list(df.columns):\n",
    "            contin.append(df[column].astype(str).str.contains(\"OrderedDict\").any())\n",
    "\n",
    "\n",
    "        if True in contin:\n",
    "            for name in list(df.columns):\n",
    "\n",
    "                if df[name].astype(str).str.contains(\"OrderedDict\").any()==False:\n",
    "                    df=df\n",
    "                else:\n",
    "                    df = remove_dict(df,name)\n",
    "\n",
    "            continu = True\n",
    "        else:\n",
    "            continu = False\n",
    "            \n",
    "    cols = list(df.columns)\n",
    "    cols = [re.sub(r\"(\\w)([A-Z])\", r\"\\1_\\2\",i).lower() for i in cols]\n",
    "    df.columns=cols\n",
    "    \n",
    "    return(df)"
   ]
  },
  {
   "cell_type": "code",
   "execution_count": 9,
   "metadata": {},
   "outputs": [],
   "source": [
    "ano=2018\n",
    "sigla='MPV'\n",
    "url='https://www.camara.leg.br/SitCamaraWS/Proposicoes.asmx/ListarProposicoes?sigla=PL&numero=&ano=2011&datApresentacaoIni=14/11/2011&datApresentacaoFim=16/11/2011&parteNomeAutor=&idTipoAutor=&siglaPartidoAutor=&siglaUFAutor=&generoAutor=&codEstado=&codOrgaoEstado=&emTramitacao='\n",
    "\n",
    "data = requests.get(url)\n",
    "xpars = xmltodict.parse(data.text)\n",
    "l1 = xpars[list(xpars.keys())[0]]\n",
    "l2 = l1[list(l1.keys())[0]]\n",
    "df = pd.DataFrame.from_dict(l2)"
   ]
  },
  {
   "cell_type": "code",
   "execution_count": 10,
   "metadata": {},
   "outputs": [],
   "source": [
    "df = remove_all_dict(df)"
   ]
  },
  {
   "cell_type": "code",
   "execution_count": null,
   "metadata": {},
   "outputs": [],
   "source": []
  },
  {
   "cell_type": "code",
   "execution_count": null,
   "metadata": {},
   "outputs": [],
   "source": []
  },
  {
   "cell_type": "code",
   "execution_count": null,
   "metadata": {},
   "outputs": [],
   "source": []
  },
  {
   "cell_type": "code",
   "execution_count": null,
   "metadata": {},
   "outputs": [],
   "source": []
  },
  {
   "cell_type": "code",
   "execution_count": null,
   "metadata": {},
   "outputs": [],
   "source": []
  },
  {
   "cell_type": "markdown",
   "metadata": {},
   "source": [
    "## Votacoes"
   ]
  },
  {
   "cell_type": "code",
   "execution_count": null,
   "metadata": {},
   "outputs": [],
   "source": []
  },
  {
   "cell_type": "code",
   "execution_count": 651,
   "metadata": {},
   "outputs": [],
   "source": [
    "tipo = 'PL' \n",
    "nome = 1992\n",
    "ano = 2007\n",
    "prop_id = 2190282\n",
    "\n",
    "votacao_prop_name = 'https://www.camara.leg.br/SitCamaraWS/Proposicoes.asmx/ObterVotacaoProposicao?tipo={}&numero={}&ano={}'.format(tipo,nome,ano)"
   ]
  },
  {
   "cell_type": "code",
   "execution_count": null,
   "metadata": {},
   "outputs": [],
   "source": []
  },
  {
   "cell_type": "code",
   "execution_count": null,
   "metadata": {},
   "outputs": [],
   "source": []
  },
  {
   "cell_type": "code",
   "execution_count": null,
   "metadata": {},
   "outputs": [],
   "source": []
  },
  {
   "cell_type": "code",
   "execution_count": null,
   "metadata": {},
   "outputs": [],
   "source": []
  },
  {
   "cell_type": "code",
   "execution_count": null,
   "metadata": {},
   "outputs": [],
   "source": []
  },
  {
   "cell_type": "code",
   "execution_count": 660,
   "metadata": {},
   "outputs": [],
   "source": [
    "doc = et.fromstring(r.content)"
   ]
  },
  {
   "cell_type": "code",
   "execution_count": 663,
   "metadata": {},
   "outputs": [
    {
     "data": {
      "text/plain": [
       "<lxml.etree._ElementTree at 0x7f73e91500c8>"
      ]
     },
     "execution_count": 663,
     "metadata": {},
     "output_type": "execute_result"
    }
   ],
   "source": [
    "doc.getroottree()"
   ]
  },
  {
   "cell_type": "code",
   "execution_count": null,
   "metadata": {},
   "outputs": [],
   "source": []
  },
  {
   "cell_type": "code",
   "execution_count": 665,
   "metadata": {},
   "outputs": [
    {
     "ename": "SyntaxError",
     "evalue": "invalid syntax (<ipython-input-665-1cdb1e13f6e7>, line 12)",
     "output_type": "error",
     "traceback": [
      "\u001b[0;36m  File \u001b[0;32m\"<ipython-input-665-1cdb1e13f6e7>\"\u001b[0;36m, line \u001b[0;32m12\u001b[0m\n\u001b[0;31m    dictionary key, value pair\u001b[0m\n\u001b[0m                 ^\u001b[0m\n\u001b[0;31mSyntaxError\u001b[0m\u001b[0;31m:\u001b[0m invalid syntax\n"
     ]
    }
   ],
   "source": [
    "import xml.etree.ElementTree as ET\n",
    "import lxml\n",
    "\n",
    "def xml2df(xml_data):\n",
    "    root = ET.XML(xml_data) # element tree\n",
    "    all_records = [] #This is our record list which we will convert into a \n",
    "    dataframe\n",
    "    for i, child in enumerate(root): #Begin looping through our root tree\n",
    "        record = {} #Place holder for our record\n",
    "        for subchild in child: #iterate through the subchildren\n",
    "            record[subchild.tag] = subchild.text #Extract the text create a new \n",
    "    dictionary key, value pair\n",
    "        all_records.append(record) #Append this record to all_records.\n",
    "return pd.DataFrame(all_records) #return records as DataFrame\n",
    "\n",
    "df = xml2df(r.content)\n"
   ]
  },
  {
   "cell_type": "code",
   "execution_count": 666,
   "metadata": {},
   "outputs": [
    {
     "ename": "NameError",
     "evalue": "name 'parse_element' is not defined",
     "output_type": "error",
     "traceback": [
      "\u001b[0;31m---------------------------------------------------------------------------\u001b[0m",
      "\u001b[0;31mNameError\u001b[0m                                 Traceback (most recent call last)",
      "\u001b[0;32m<ipython-input-666-6774c52b389f>\u001b[0m in \u001b[0;36m<module>\u001b[0;34m\u001b[0m\n\u001b[1;32m     36\u001b[0m \u001b[0;34m\u001b[0m\u001b[0m\n\u001b[1;32m     37\u001b[0m \u001b[0mxml2df\u001b[0m \u001b[0;34m=\u001b[0m \u001b[0mXML2DataFrame\u001b[0m\u001b[0;34m(\u001b[0m\u001b[0mr\u001b[0m\u001b[0;34m.\u001b[0m\u001b[0mcontent\u001b[0m\u001b[0;34m)\u001b[0m\u001b[0;34m\u001b[0m\u001b[0;34m\u001b[0m\u001b[0m\n\u001b[0;32m---> 38\u001b[0;31m \u001b[0mxml_dataframe\u001b[0m \u001b[0;34m=\u001b[0m \u001b[0mxml2df\u001b[0m\u001b[0;34m.\u001b[0m\u001b[0mprocess_data\u001b[0m\u001b[0;34m(\u001b[0m\u001b[0;34m)\u001b[0m\u001b[0;34m\u001b[0m\u001b[0;34m\u001b[0m\u001b[0m\n\u001b[0m\u001b[1;32m     39\u001b[0m \u001b[0;34m\u001b[0m\u001b[0m\n\u001b[1;32m     40\u001b[0m \u001b[0;34m\u001b[0m\u001b[0m\n",
      "\u001b[0;32m<ipython-input-666-6774c52b389f>\u001b[0m in \u001b[0;36mprocess_data\u001b[0;34m(self)\u001b[0m\n\u001b[1;32m     32\u001b[0m     \u001b[0;32mdef\u001b[0m \u001b[0mprocess_data\u001b[0m\u001b[0;34m(\u001b[0m\u001b[0mself\u001b[0m\u001b[0;34m)\u001b[0m\u001b[0;34m:\u001b[0m\u001b[0;34m\u001b[0m\u001b[0;34m\u001b[0m\u001b[0m\n\u001b[1;32m     33\u001b[0m         \u001b[0;34m\"\"\" Initiate the root XML, parse it, and return a dataframe\"\"\"\u001b[0m\u001b[0;34m\u001b[0m\u001b[0;34m\u001b[0m\u001b[0m\n\u001b[0;32m---> 34\u001b[0;31m         \u001b[0mstructure_data\u001b[0m \u001b[0;34m=\u001b[0m \u001b[0mself\u001b[0m\u001b[0;34m.\u001b[0m\u001b[0mparse_root\u001b[0m\u001b[0;34m(\u001b[0m\u001b[0mself\u001b[0m\u001b[0;34m.\u001b[0m\u001b[0mroot\u001b[0m\u001b[0;34m)\u001b[0m\u001b[0;34m\u001b[0m\u001b[0;34m\u001b[0m\u001b[0m\n\u001b[0m\u001b[1;32m     35\u001b[0m         \u001b[0;32mreturn\u001b[0m \u001b[0mpd\u001b[0m\u001b[0;34m.\u001b[0m\u001b[0mDataFrame\u001b[0m\u001b[0;34m(\u001b[0m\u001b[0mstructure_data\u001b[0m\u001b[0;34m)\u001b[0m\u001b[0;34m\u001b[0m\u001b[0;34m\u001b[0m\u001b[0m\n\u001b[1;32m     36\u001b[0m \u001b[0;34m\u001b[0m\u001b[0m\n",
      "\u001b[0;32m<ipython-input-666-6774c52b389f>\u001b[0m in \u001b[0;36mparse_root\u001b[0;34m(self, root)\u001b[0m\n\u001b[1;32m      9\u001b[0m         \"\"\"Return a list of dictionaries from the text and attributes of the\n\u001b[1;32m     10\u001b[0m         children under this XML root.\"\"\"\n\u001b[0;32m---> 11\u001b[0;31m         \u001b[0;32mreturn\u001b[0m \u001b[0;34m[\u001b[0m\u001b[0mparse_element\u001b[0m\u001b[0;34m(\u001b[0m\u001b[0mchild\u001b[0m\u001b[0;34m)\u001b[0m \u001b[0;32mfor\u001b[0m \u001b[0mchild\u001b[0m \u001b[0;32min\u001b[0m \u001b[0mroot\u001b[0m\u001b[0;34m.\u001b[0m\u001b[0mgetchildren\u001b[0m\u001b[0;34m(\u001b[0m\u001b[0;34m)\u001b[0m\u001b[0;34m]\u001b[0m\u001b[0;34m\u001b[0m\u001b[0;34m\u001b[0m\u001b[0m\n\u001b[0m\u001b[1;32m     12\u001b[0m \u001b[0;34m\u001b[0m\u001b[0m\n\u001b[1;32m     13\u001b[0m     \u001b[0;32mdef\u001b[0m \u001b[0mparse_element\u001b[0m\u001b[0;34m(\u001b[0m\u001b[0mself\u001b[0m\u001b[0;34m,\u001b[0m \u001b[0melement\u001b[0m\u001b[0;34m,\u001b[0m \u001b[0mparsed\u001b[0m\u001b[0;34m=\u001b[0m\u001b[0;32mNone\u001b[0m\u001b[0;34m)\u001b[0m\u001b[0;34m:\u001b[0m\u001b[0;34m\u001b[0m\u001b[0;34m\u001b[0m\u001b[0m\n",
      "\u001b[0;32m<ipython-input-666-6774c52b389f>\u001b[0m in \u001b[0;36m<listcomp>\u001b[0;34m(.0)\u001b[0m\n\u001b[1;32m      9\u001b[0m         \"\"\"Return a list of dictionaries from the text and attributes of the\n\u001b[1;32m     10\u001b[0m         children under this XML root.\"\"\"\n\u001b[0;32m---> 11\u001b[0;31m         \u001b[0;32mreturn\u001b[0m \u001b[0;34m[\u001b[0m\u001b[0mparse_element\u001b[0m\u001b[0;34m(\u001b[0m\u001b[0mchild\u001b[0m\u001b[0;34m)\u001b[0m \u001b[0;32mfor\u001b[0m \u001b[0mchild\u001b[0m \u001b[0;32min\u001b[0m \u001b[0mroot\u001b[0m\u001b[0;34m.\u001b[0m\u001b[0mgetchildren\u001b[0m\u001b[0;34m(\u001b[0m\u001b[0;34m)\u001b[0m\u001b[0;34m]\u001b[0m\u001b[0;34m\u001b[0m\u001b[0;34m\u001b[0m\u001b[0m\n\u001b[0m\u001b[1;32m     12\u001b[0m \u001b[0;34m\u001b[0m\u001b[0m\n\u001b[1;32m     13\u001b[0m     \u001b[0;32mdef\u001b[0m \u001b[0mparse_element\u001b[0m\u001b[0;34m(\u001b[0m\u001b[0mself\u001b[0m\u001b[0;34m,\u001b[0m \u001b[0melement\u001b[0m\u001b[0;34m,\u001b[0m \u001b[0mparsed\u001b[0m\u001b[0;34m=\u001b[0m\u001b[0;32mNone\u001b[0m\u001b[0;34m)\u001b[0m\u001b[0;34m:\u001b[0m\u001b[0;34m\u001b[0m\u001b[0;34m\u001b[0m\u001b[0m\n",
      "\u001b[0;31mNameError\u001b[0m: name 'parse_element' is not defined"
     ]
    }
   ],
   "source": [
    "import xml.etree.ElementTree as ET\n",
    "import pandas as pd\n",
    "class XML2DataFrame:\n",
    "\n",
    "    def __init__(self, xml_data):\n",
    "        self.root = ET.XML(xml_data)\n",
    "\n",
    "    def parse_root(self, root):\n",
    "        \"\"\"Return a list of dictionaries from the text and attributes of the\n",
    "        children under this XML root.\"\"\"\n",
    "        return [parse_element(child) for child in root.getchildren()]\n",
    "\n",
    "    def parse_element(self, element, parsed=None):\n",
    "        \"\"\" Collect {key:attribute} and {tag:text} from thie XML\n",
    "         element and all its children into a single dictionary of strings.\"\"\"\n",
    "        if parsed is None:\n",
    "            parsed = dict()\n",
    "\n",
    "        for key in element.keys():\n",
    "            if key not in parsed:\n",
    "                parsed[key] = element.attrib.get(key)\n",
    "            if element.text:\n",
    "                parsed[element.tag] = element.text                \n",
    "            else:\n",
    "                raise ValueError('duplicate attribute {0} at element {1}'.format(key, element.getroottree().getpath(element)))           \n",
    "\n",
    "        \"\"\" Apply recursion\"\"\"\n",
    "        for child in list(element):\n",
    "            self.parse_element(child, parsed)\n",
    "        return parsed\n",
    "\n",
    "    def process_data(self):\n",
    "        \"\"\" Initiate the root XML, parse it, and return a dataframe\"\"\"\n",
    "        structure_data = self.parse_root(self.root)\n",
    "        return pd.DataFrame(structure_data)\n",
    "\n",
    "xml2df = XML2DataFrame(r.content)\n",
    "xml_dataframe = xml2df.process_data()\n",
    "\n",
    "\n"
   ]
  },
  {
   "cell_type": "code",
   "execution_count": null,
   "metadata": {},
   "outputs": [],
   "source": []
  },
  {
   "cell_type": "code",
   "execution_count": null,
   "metadata": {},
   "outputs": [],
   "source": []
  },
  {
   "cell_type": "code",
   "execution_count": null,
   "metadata": {},
   "outputs": [],
   "source": []
  },
  {
   "cell_type": "code",
   "execution_count": null,
   "metadata": {},
   "outputs": [],
   "source": []
  },
  {
   "cell_type": "code",
   "execution_count": null,
   "metadata": {},
   "outputs": [],
   "source": []
  },
  {
   "cell_type": "code",
   "execution_count": null,
   "metadata": {},
   "outputs": [],
   "source": []
  },
  {
   "cell_type": "code",
   "execution_count": null,
   "metadata": {},
   "outputs": [],
   "source": []
  },
  {
   "cell_type": "code",
   "execution_count": null,
   "metadata": {},
   "outputs": [],
   "source": []
  },
  {
   "cell_type": "code",
   "execution_count": null,
   "metadata": {},
   "outputs": [],
   "source": []
  },
  {
   "cell_type": "code",
   "execution_count": null,
   "metadata": {},
   "outputs": [],
   "source": []
  },
  {
   "cell_type": "code",
   "execution_count": null,
   "metadata": {},
   "outputs": [],
   "source": []
  },
  {
   "cell_type": "code",
   "execution_count": null,
   "metadata": {},
   "outputs": [],
   "source": []
  },
  {
   "cell_type": "code",
   "execution_count": null,
   "metadata": {},
   "outputs": [],
   "source": []
  },
  {
   "cell_type": "code",
   "execution_count": null,
   "metadata": {},
   "outputs": [],
   "source": []
  },
  {
   "cell_type": "code",
   "execution_count": null,
   "metadata": {},
   "outputs": [],
   "source": []
  }
 ],
 "metadata": {
  "kernelspec": {
   "display_name": "Python 3",
   "language": "python",
   "name": "python3"
  },
  "language_info": {
   "codemirror_mode": {
    "name": "ipython",
    "version": 3
   },
   "file_extension": ".py",
   "mimetype": "text/x-python",
   "name": "python",
   "nbconvert_exporter": "python",
   "pygments_lexer": "ipython3",
   "version": "3.7.4"
  }
 },
 "nbformat": 4,
 "nbformat_minor": 2
}
